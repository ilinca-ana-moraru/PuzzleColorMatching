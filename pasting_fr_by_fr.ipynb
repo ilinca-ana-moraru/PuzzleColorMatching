{
 "cells": [
  {
   "cell_type": "code",
   "execution_count": null,
   "id": "d787e90d",
   "metadata": {},
   "outputs": [],
   "source": [
    "import os\n",
    "import cv2 as cv\n",
    "import numpy as np\n",
    "import matplotlib.pyplot as plt\n",
    "from typing import List\n",
    "np.set_printoptions(threshold=np.inf)  \n",
    "\n",
    "from fragment import *\n",
    "from side import *\n",
    "from sides_comparison import *\n",
    "from utils import *\n",
    "from puzzle import *\n",
    "from global_values import *\n",
    "from displaying import *"
   ]
  },
  {
   "cell_type": "code",
   "execution_count": null,
   "id": "1337eb63",
   "metadata": {},
   "outputs": [],
   "source": [
    "image_path = \"disney_puzzle/aladin.jpg\" \n",
    "output_folder = \"fragments\"\n",
    "\n",
    "fragments = divide_image(image_path, output_folder, COL_NR, ROW_NR)"
   ]
  },
  {
   "cell_type": "code",
   "execution_count": null,
   "id": "82c3c8bb",
   "metadata": {},
   "outputs": [],
   "source": [
    "class assembledGroup:\n",
    "    def __init__(self, sidesComp):\n",
    "        self."
   ]
  },
  {
   "cell_type": "code",
   "execution_count": null,
   "id": "8ec74f8b",
   "metadata": {},
   "outputs": [],
   "source": [
    "def make_next_solving_step(fragments: List[Fragment], show_all_posible_matches):\n",
    "\n",
    "    sides_comparisons = create_sides_comparisons(fragments)\n",
    "    sorted_sides_comparisons = sort_sides_comparisons(sides_comparisons)\n",
    "\n",
    "    if show_all_posible_matches:\n",
    "        print(\"-------------------------All Posible Matches-------------\")\n",
    "        display_fragments_characteristics(fragments, sorted_sides_comparisons)\n",
    "\n",
    "    new_fragments = merge_fragments_two_by_two(fragments, sorted_sides_comparisons)\n",
    "\n",
    "    print(\"------------------------New Fragments-------------------------\")\n",
    "    for fr in new_fragments:\n",
    "        plt.imshow(fr.value)\n",
    "        plt.show()\n",
    "    \n",
    "\n",
    "    return new_fragments\n",
    "\n"
   ]
  }
 ],
 "metadata": {
  "language_info": {
   "name": "python"
  }
 },
 "nbformat": 4,
 "nbformat_minor": 5
}
